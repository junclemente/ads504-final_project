{
 "cells": [
  {
   "cell_type": "markdown",
   "id": "2a45a00e",
   "metadata": {},
   "source": [
    "This is a test notebook.\n"
   ]
  },
  {
   "cell_type": "markdown",
   "id": "99890425",
   "metadata": {},
   "source": [
    "Link to the notebook:\n",
    "\n",
    "[![Open In Colab](https://colab.research.google.com/assets/colab-badge.svg)](https://colab.research.google.com/github/junclemente/ads504-final_project/blob/main/notebooks/test.ipynb)\n"
   ]
  },
  {
   "cell_type": "code",
   "execution_count": null,
   "id": "a3dc031a",
   "metadata": {
    "vscode": {
     "languageId": "plaintext"
    }
   },
   "outputs": [],
   "source": [
    "import pandas as pda"
   ]
  }
 ],
 "metadata": {
  "language_info": {
   "name": "python"
  }
 },
 "nbformat": 4,
 "nbformat_minor": 5
}
